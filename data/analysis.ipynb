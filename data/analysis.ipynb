{
 "cells": [
  {
   "cell_type": "code",
   "execution_count": 1,
   "metadata": {
    "collapsed": true
   },
   "outputs": [],
   "source": [
    "import numpy as np\n",
    "import pandas as pd\n",
    "import sqlite3"
   ]
  },
  {
   "cell_type": "code",
   "execution_count": 2,
   "metadata": {
    "collapsed": false
   },
   "outputs": [],
   "source": [
    "con = sqlite3.connect(\"dps_data.db\")\n",
    "con.text_factory = str\n",
    "\n",
    "sia = pd.read_sql(\"SELECT * from sia;\", con)\n",
    "stops = pd.read_sql(\"SELECT * from stops;\", con)"
   ]
  },
  {
   "cell_type": "code",
   "execution_count": 3,
   "metadata": {
    "collapsed": false
   },
   "outputs": [
    {
     "name": "stdout",
     "output_type": "stream",
     "text": [
      "0.0012925761366\n"
     ]
    }
   ],
   "source": [
    "STATUS_CHECK = stops[stops[\"immigration_status_check\"] == \"Y\"]\n",
    "\n",
    "NUM_STOPS = float(len(stops))\n",
    "NUM_STATUS_CHECK_STOPS = float(len(STATUS_CHECK))\n",
    "print NUM_STATUS_CHECK_STOPS / NUM_STOPS"
   ]
  },
  {
   "cell_type": "code",
   "execution_count": 4,
   "metadata": {
    "collapsed": false
   },
   "outputs": [
    {
     "name": "stdout",
     "output_type": "stream",
     "text": [
      "Status check vehicle impounded: 41.2378303199%\n",
      "Total: 1.85868493412%\n"
     ]
    }
   ],
   "source": [
    "print \"Status check vehicle impounded: {}%\".format(\n",
    "            (len(STATUS_CHECK[STATUS_CHECK[\"vehicle_impounded\"] == \"Y\"])\n",
    "                 / NUM_STATUS_CHECK_STOPS)\n",
    "                 * 100)\n",
    "print \"Total: {}%\".format(\n",
    "            (len(stops[stops[\"vehicle_impounded\"] == \"Y\"])\n",
    "                / NUM_STOPS)\n",
    "                * 100)"
   ]
  },
  {
   "cell_type": "code",
   "execution_count": 5,
   "metadata": {
    "collapsed": false
   },
   "outputs": [
    {
     "name": "stdout",
     "output_type": "stream",
     "text": [
      "Status check vehicle search: 64.9513212796%\n",
      "Total: 4.14900760175%\n"
     ]
    }
   ],
   "source": [
    "print \"Status check vehicle search: {}%\".format(\n",
    "            (len(STATUS_CHECK[STATUS_CHECK[\"search_of_vehicle\"] == \"Y\"])\n",
    "                 / NUM_STATUS_CHECK_STOPS)\n",
    "                 * 100)\n",
    "print \"Total: {}%\".format(\n",
    "            (len(stops[stops[\"search_of_vehicle\"] == \"Y\"])\n",
    "                 / NUM_STOPS)\n",
    "                 * 100)"
   ]
  },
  {
   "cell_type": "code",
   "execution_count": 6,
   "metadata": {
    "collapsed": false
   },
   "outputs": [],
   "source": [
    "sia[\"year_of_stop\"] = sia[\"dateofstop\"].apply(lambda x: x[-4:])\n",
    "sia = sia[sia[\"year_of_stop\"] == \"2013\"]\n",
    "\n",
    "stops[\"year_of_stop\"] = stops[\"date_of_stop\"].apply(lambda x: x[0:4])\n",
    "stops = stops[stops[\"year_of_stop\"] == \"2013\"]\n",
    "\n",
    "STATUS_CHECK[\"year_of_stop\"] = STATUS_CHECK[\"date_of_stop\"].apply(lambda x: x[0:4])\n",
    "STATUS_CHECK = STATUS_CHECK[STATUS_CHECK[\"year_of_stop\"] == \"2013\"]"
   ]
  },
  {
   "cell_type": "code",
   "execution_count": 7,
   "metadata": {
    "collapsed": false
   },
   "outputs": [
    {
     "name": "stdout",
     "output_type": "stream",
     "text": [
      "All traffic stops\n"
     ]
    },
    {
     "data": {
      "text/html": [
       "<div style=\"max-height:1000px;max-width:1500px;overflow:auto;\">\n",
       "<table border=\"1\" class=\"dataframe\">\n",
       "  <thead>\n",
       "    <tr style=\"text-align: right;\">\n",
       "      <th></th>\n",
       "      <th>Ethnicity</th>\n",
       "      <th>#</th>\n",
       "      <th>%</th>\n",
       "    </tr>\n",
       "  </thead>\n",
       "  <tbody>\n",
       "    <tr>\n",
       "      <th>7</th>\n",
       "      <td>                    WHITE</td>\n",
       "      <td> 183734</td>\n",
       "      <td> 59.313613</td>\n",
       "    </tr>\n",
       "    <tr>\n",
       "      <th>3</th>\n",
       "      <td>                 HISPANIC</td>\n",
       "      <td>  80923</td>\n",
       "      <td> 26.123829</td>\n",
       "    </tr>\n",
       "    <tr>\n",
       "      <th>2</th>\n",
       "      <td>                    BLACK</td>\n",
       "      <td>  17406</td>\n",
       "      <td>  5.619062</td>\n",
       "    </tr>\n",
       "    <tr>\n",
       "      <th>5</th>\n",
       "      <td>          NATIVE AMERICAN</td>\n",
       "      <td>  13974</td>\n",
       "      <td>  4.511133</td>\n",
       "    </tr>\n",
       "    <tr>\n",
       "      <th>1</th>\n",
       "      <td> ASIAN / PACIFIC ISLANDER</td>\n",
       "      <td>   6739</td>\n",
       "      <td>  2.175506</td>\n",
       "    </tr>\n",
       "    <tr>\n",
       "      <th>4</th>\n",
       "      <td>           MIDDLE EASTERN</td>\n",
       "      <td>   4632</td>\n",
       "      <td>  1.495317</td>\n",
       "    </tr>\n",
       "    <tr>\n",
       "      <th>6</th>\n",
       "      <td>    OTHER OR UNDETERMINED</td>\n",
       "      <td>   2321</td>\n",
       "      <td>  0.749273</td>\n",
       "    </tr>\n",
       "    <tr>\n",
       "      <th>0</th>\n",
       "      <td>                         </td>\n",
       "      <td>     38</td>\n",
       "      <td>  0.012267</td>\n",
       "    </tr>\n",
       "  </tbody>\n",
       "</table>\n",
       "</div>"
      ],
      "text/plain": [
       "                  Ethnicity       #          %\n",
       "7                     WHITE  183734  59.313613\n",
       "3                  HISPANIC   80923  26.123829\n",
       "2                     BLACK   17406   5.619062\n",
       "5           NATIVE AMERICAN   13974   4.511133\n",
       "1  ASIAN / PACIFIC ISLANDER    6739   2.175506\n",
       "4            MIDDLE EASTERN    4632   1.495317\n",
       "6     OTHER OR UNDETERMINED    2321   0.749273\n",
       "0                                38   0.012267"
      ]
     },
     "execution_count": 7,
     "metadata": {},
     "output_type": "execute_result"
    }
   ],
   "source": [
    "print \"All traffic stops\"\n",
    "df = pd.DataFrame(columns=[\"Ethnicity\", \"#\", \"%\"])\n",
    "i = 0\n",
    "for name, group in stops.groupby([\"ethnicity_desc\"]):\n",
    "    df.loc[i] = [name,\n",
    "                 len(group),\n",
    "                 np.true_divide(len(group), len(stops)) * 100]\n",
    "    i += 1\n",
    "df.sort(\"#\", ascending=False)"
   ]
  },
  {
   "cell_type": "code",
   "execution_count": 8,
   "metadata": {
    "collapsed": false
   },
   "outputs": [
    {
     "name": "stdout",
     "output_type": "stream",
     "text": [
      "Immigration status checks\n"
     ]
    },
    {
     "data": {
      "text/html": [
       "<div style=\"max-height:1000px;max-width:1500px;overflow:auto;\">\n",
       "<table border=\"1\" class=\"dataframe\">\n",
       "  <thead>\n",
       "    <tr style=\"text-align: right;\">\n",
       "      <th></th>\n",
       "      <th>Ethnicity</th>\n",
       "      <th>#</th>\n",
       "      <th>%</th>\n",
       "    </tr>\n",
       "  </thead>\n",
       "  <tbody>\n",
       "    <tr>\n",
       "      <th>1</th>\n",
       "      <td>        HISPANIC</td>\n",
       "      <td> 356</td>\n",
       "      <td> 98.071625</td>\n",
       "    </tr>\n",
       "    <tr>\n",
       "      <th>3</th>\n",
       "      <td>           WHITE</td>\n",
       "      <td>   5</td>\n",
       "      <td>  1.377410</td>\n",
       "    </tr>\n",
       "    <tr>\n",
       "      <th>0</th>\n",
       "      <td>           BLACK</td>\n",
       "      <td>   1</td>\n",
       "      <td>  0.275482</td>\n",
       "    </tr>\n",
       "    <tr>\n",
       "      <th>2</th>\n",
       "      <td> NATIVE AMERICAN</td>\n",
       "      <td>   1</td>\n",
       "      <td>  0.275482</td>\n",
       "    </tr>\n",
       "  </tbody>\n",
       "</table>\n",
       "</div>"
      ],
      "text/plain": [
       "         Ethnicity    #          %\n",
       "1         HISPANIC  356  98.071625\n",
       "3            WHITE    5   1.377410\n",
       "0            BLACK    1   0.275482\n",
       "2  NATIVE AMERICAN    1   0.275482"
      ]
     },
     "execution_count": 8,
     "metadata": {},
     "output_type": "execute_result"
    }
   ],
   "source": [
    "print \"Immigration status checks\"\n",
    "df = pd.DataFrame(columns=[\"Ethnicity\", \"#\", \"%\"])\n",
    "i = 0\n",
    "for name, group in STATUS_CHECK.groupby([\"ethnicity_desc\"]):\n",
    "    df.loc[i] = [name,\n",
    "                 len(group),\n",
    "                 np.true_divide(len(group), len(STATUS_CHECK)) * 100]\n",
    "    i += 1\n",
    "df.sort(\"#\", ascending=False)"
   ]
  },
  {
   "cell_type": "code",
   "execution_count": null,
   "metadata": {
    "collapsed": true
   },
   "outputs": [],
   "source": []
  }
 ],
 "metadata": {
  "kernelspec": {
   "display_name": "Python 2",
   "language": "python",
   "name": "python2"
  },
  "language_info": {
   "codemirror_mode": {
    "name": "ipython",
    "version": 2
   },
   "file_extension": ".py",
   "mimetype": "text/x-python",
   "name": "python",
   "nbconvert_exporter": "python",
   "pygments_lexer": "ipython2",
   "version": "2.7.5"
  }
 },
 "nbformat": 4,
 "nbformat_minor": 0
}
